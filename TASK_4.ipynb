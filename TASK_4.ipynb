{
  "nbformat": 4,
  "nbformat_minor": 0,
  "metadata": {
    "colab": {
      "provenance": []
    },
    "kernelspec": {
      "name": "python3",
      "display_name": "Python 3"
    },
    "language_info": {
      "name": "python"
    }
  },
  "cells": [
    {
      "cell_type": "code",
      "source": [
        "\n",
        "def solve_sudoku(grid):\n",
        "\n",
        "  empty_cell = find_empty_cell(grid)\n",
        "  if not empty_cell:\n",
        "    return True\n",
        "\n",
        "  row, col = empty_cell\n",
        "\n",
        "\n",
        "  for num in range(1, 10):\n",
        "    if is_valid(grid, num, (row, col)):\n",
        "      grid[row][col] = num\n",
        "\n",
        "\n",
        "      if solve_sudoku(grid):\n",
        "        return True\n",
        "\n",
        "\n",
        "      grid[row][col] = 0\n",
        "\n",
        "  return False\n",
        "\n",
        "def find_empty_cell(grid):\n",
        "\n",
        "\n",
        "  for row in range(9):\n",
        "    for col in range(9):\n",
        "      if grid[row][col] == 0:\n",
        "        return (row, col)\n",
        "  return None\n",
        "\n",
        "def is_valid(grid, num, pos):\n",
        "\n",
        "  for i in range(9):\n",
        "    if grid[pos[0]][i] == num and pos[1] != i:\n",
        "      return False\n",
        "\n",
        "  for i in range(9):\n",
        "    if grid[i][pos[1]] == num and pos[0] != i:\n",
        "      return False\n",
        "\n",
        "  box_x = pos[1] // 3\n",
        "  box_y = pos[0] // 3\n",
        "  for i in range(box_y * 3, box_y * 3 + 3):\n",
        "    for j in range(box_x * 3, box_x * 3 + 3):\n",
        "      if grid[i][j] == num and (i, j) != pos:\n",
        "        return False\n",
        "\n",
        "  return True\n",
        "\n",
        "def print_grid(grid):\n",
        "\n",
        "  for row in grid:\n",
        "    print(row)\n",
        "\n",
        "if __name__ == \"__main__\":\n",
        "  puzzle = [\n",
        "      [5, 3, 0, 0, 7, 0, 0, 0, 0],\n",
        "      [6, 0, 0, 1, 9, 5, 0, 0, 0],\n",
        "      [0, 9, 8, 0, 0, 0, 0, 6, 0],\n",
        "      [8, 0, 0, 0, 6, 0, 0, 0, 3],\n",
        "      [4, 0, 0, 8, 0, 3, 0, 0, 1],\n",
        "      [7, 0, 0, 0, 2, 0, 0, 0, 6],\n",
        "      [0, 6, 0, 0, 0, 0, 2, 8, 0],\n",
        "      [0, 0, 0, 4, 1, 9, 0, 0, 5],\n",
        "      [0, 0, 0, 0, 8, 0, 0, 7, 9]\n",
        "  ]\n",
        "\n",
        "  if solve_sudoku(puzzle):\n",
        "    print(\"Solved Sudoku:\")\n",
        "    print_grid(puzzle)\n",
        "  else:\n",
        "    print(\"No solution exists.\")\n"
      ],
      "metadata": {
        "id": "t84kGi2bgrw8",
        "colab": {
          "base_uri": "https://localhost:8080/"
        },
        "outputId": "e751dc86-c2fb-4b28-bbeb-e793182b130c"
      },
      "execution_count": 1,
      "outputs": [
        {
          "output_type": "stream",
          "name": "stdout",
          "text": [
            "Solved Sudoku:\n",
            "[5, 3, 4, 6, 7, 8, 9, 1, 2]\n",
            "[6, 7, 2, 1, 9, 5, 3, 4, 8]\n",
            "[1, 9, 8, 3, 4, 2, 5, 6, 7]\n",
            "[8, 5, 9, 7, 6, 1, 4, 2, 3]\n",
            "[4, 2, 6, 8, 5, 3, 7, 9, 1]\n",
            "[7, 1, 3, 9, 2, 4, 8, 5, 6]\n",
            "[9, 6, 1, 5, 3, 7, 2, 8, 4]\n",
            "[2, 8, 7, 4, 1, 9, 6, 3, 5]\n",
            "[3, 4, 5, 2, 8, 6, 1, 7, 9]\n"
          ]
        }
      ]
    }
  ]
}